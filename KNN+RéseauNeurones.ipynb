{
  "nbformat": 4,
  "nbformat_minor": 0,
  "metadata": {
    "colab": {
      "provenance": []
    },
    "kernelspec": {
      "name": "python3",
      "display_name": "Python 3"
    },
    "language_info": {
      "name": "python"
    }
  },
  "cells": [
    {
      "cell_type": "code",
      "source": [
        "import math\n",
        "def euclidiandist(X,Y):\n",
        "    Distance=0\n",
        "    for i in range(0,2):\n",
        "        Distance=(X[i]-Y[i])**2 +Distance\n",
        "        Distance=math.sqrt(Distance)\n",
        "    return Distance\n",
        "\n",
        "L=[(2,1),(3,5),(7,8),(5,4),(5,6),(0,1),(2,2),(7,5)]\n",
        "\n",
        "def calculeDistance(X,L):\n",
        "    Resultat={}\n",
        "    for Y in L:\n",
        "        dist=euclidiandist(X,Y)\n",
        "        Resultat[Y]=dist\n",
        "\n",
        "    return Resultat\n",
        "\n",
        "def Knn(X,L,k):\n",
        "    Distancetrié=[]\n",
        "    Dict_nontrié=calculeDistance(X,L)\n",
        "    dictionnaire_trie = dict(sorted(Dict_nontrié.items(), key=lambda item: item[1]))\n",
        "\n",
        "    for point in dictionnaire_trie.keys():\n",
        "        Distancetrié.append(point)\n",
        "\n",
        "    for m in range(0,k):\n",
        "        print(Distancetrié[m])\n",
        "\n",
        "Knn((7,5),L,3)"
      ],
      "metadata": {
        "colab": {
          "base_uri": "https://localhost:8080/"
        },
        "id": "rRNtlJ8IxR7r",
        "outputId": "7e47a18e-6365-4b45-a792-ae649b59858b"
      },
      "execution_count": null,
      "outputs": [
        {
          "output_type": "stream",
          "name": "stdout",
          "text": [
            "(7, 5)\n",
            "(5, 4)\n",
            "(5, 6)\n"
          ]
        }
      ]
    },
    {
      "cell_type": "code",
      "source": [
        "import random\n",
        "\n",
        "def initialisation(C):\n",
        "    return [random.choice([-1, 0, 1]) for _ in range(C)]\n",
        "\n",
        "def fonction_activation(X):\n",
        "    if X > 0:\n",
        "        return 1\n",
        "    else:\n",
        "        return 0\n",
        "\n",
        "def Potentiel(w, X, j):\n",
        "    P = 0\n",
        "    for i in range(len(X[0])):\n",
        "        P += w[i] * X[j][i]\n",
        "    return P\n",
        "\n",
        "def w_new(w, X, Y, j):\n",
        "    for i in range(len(X[0])):\n",
        "        w[i] = w[i] + (Y[j] - fonction_activation(Potentiel(w, X, j)))*X[j][i]\n",
        "    return w\n",
        "\n",
        "def apprentissage_perceptron(X, Y, w):\n",
        "    C = len(X[0])\n",
        "    n = len(X)\n",
        "    Verif = True\n",
        "    i=0\n",
        "    while Verif:\n",
        "        i+=1\n",
        "        Ajustement = []\n",
        "        count = 0\n",
        "        for j in range(n):\n",
        "            Ajustement.append(w_new(w, X, Y, j))\n",
        "        for i in range(C):\n",
        "            if Ajustement[0] == Ajustement[i]:\n",
        "                count += 1\n",
        "        if count==len(X[0]):\n",
        "            Verif = False\n",
        "    return Ajustement, i, 'resultat final:', w\n",
        "\n",
        "X = [(1, 1, 1), (1, 1, 1), (1, 1, 0), (1, 0, 0)]\n",
        "Y = [0, 1, 1, 1]\n",
        "w = [1,1,0]\n",
        "print(w_new(w, X, Y, 0))\n",
        "print('les coefficients de depart',initialisation(len(X[0])))\n",
        "print(apprentissage_perceptron(X, Y, initialisation(len(X[0]))))\n",
        "\n"
      ],
      "metadata": {
        "colab": {
          "base_uri": "https://localhost:8080/"
        },
        "id": "50iYmtDSmm1l",
        "outputId": "b83c338f-10e4-452a-e28d-6f1aa96afb68"
      },
      "execution_count": null,
      "outputs": [
        {
          "output_type": "stream",
          "name": "stdout",
          "text": [
            "[0, 0, 0]\n",
            "les coefficients de depart [1, -1, 1]\n",
            "([[1, 1, -1], [1, 1, -1], [1, 1, -1], [1, 1, -1]], 2, 'resultat final:', [1, 1, -1])\n"
          ]
        }
      ]
    },
    {
      "cell_type": "code",
      "execution_count": null,
      "metadata": {
        "colab": {
          "base_uri": "https://localhost:8080/"
        },
        "id": "4_3fWZJKqtwl",
        "outputId": "1958a247-4b4e-4e94-9e3c-df9dbdf9db03"
      },
      "outputs": [
        {
          "output_type": "stream",
          "name": "stdout",
          "text": [
            "[0, -1, 0]\n",
            "Nombre d'itérations nécessaires : 15\n",
            "Poids finaux (𝜔𝑗) : [-0.09999999999999998, 0.19999999999999987, 0.30000000000000004]\n"
          ]
        }
      ],
      "source": [
        "import random\n",
        "\n",
        "# Fonction pour initialiser 𝜔j de manière aléatoire en utilisant -1, 0 ou 1\n",
        "def initialiser_coefficientSynoptique(p):\n",
        "    return [random.choice([-1, 0, 1]) for _ in range(p)]\n",
        "\n",
        "# Définition de l'algorithme d'apprentissage du perceptron\n",
        "def apprentissage_perceptron(X, Y, alpha, epsilon):\n",
        "    p = len(X[0])\n",
        "    n = len(X)\n",
        "    w = initialiser_coefficientSynoptique(p)\n",
        "    print(w)\n",
        "    E = float('inf')\n",
        "    iteration = 0\n",
        "\n",
        "    while E >= epsilon:\n",
        "        E = 0\n",
        "        iteration += 1\n",
        "        donnees_combinees = list(zip(X, Y))\n",
        "        random.shuffle(donnees_combinees)\n",
        "        X, Y = zip(*donnees_combinees)\n",
        "\n",
        "        for i in range(n):\n",
        "            prediction = sum(w[j] * X[i][j] for j in range(p))\n",
        "            erreur = Y[i] - (1 if prediction >= 0 else 0)\n",
        "            E += abs(erreur)\n",
        "            for j in range(p):\n",
        "                w[j] += alpha * erreur * X[i][j]\n",
        "\n",
        "    return w, iteration\n",
        "\n",
        "# Exemple d'observations et de sorties attendues\n",
        "X = [(1, 0, 0), (1, 0, 1), (1, 1, 0), (1, 1, 1)]\n",
        "Y = [0, 1, 1, 1]\n",
        "alpha = 0.1  # Taux d'apprentissage\n",
        "epsilon = 0.01  # Seuil de convergence\n",
        "\n",
        "# Entraînement du perceptron\n",
        "coefficient_finaux, num_iterations = apprentissage_perceptron(X, Y, alpha, epsilon)\n",
        "\n",
        "print(f\"Nombre d'itérations nécessaires : {num_iterations}\")\n",
        "print(f\"Poids finaux (𝜔𝑗) : {coefficient_finaux}\")\n"
      ]
    }
  ]
}